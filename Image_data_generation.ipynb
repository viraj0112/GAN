{
  "cells": [
    {
      "cell_type": "markdown",
      "metadata": {
        "id": "view-in-github",
        "colab_type": "text"
      },
      "source": [
        "<a href=\"https://colab.research.google.com/github/viraj0112/GAN/blob/main/Image_data_generation.ipynb\" target=\"_parent\"><img src=\"https://colab.research.google.com/assets/colab-badge.svg\" alt=\"Open In Colab\"/></a>"
      ]
    },
    {
      "cell_type": "code",
      "execution_count": null,
      "metadata": {
        "id": "zkBTeicxYb5a"
      },
      "outputs": [],
      "source": [
        "import cv2\n",
        "import numpy as np\n",
        "from google.colab.patches import cv2_imshow\n",
        "from os import listdir\n",
        "from os.path import isfile, join\n",
        "import os"
      ]
    },
    {
      "cell_type": "code",
      "source": [
        "from google.colab import drive\n",
        "drive.mount('/content/drive')"
      ],
      "metadata": {
        "colab": {
          "base_uri": "https://localhost:8080/"
        },
        "id": "V6_ph_pyRVLy",
        "outputId": "5bb21a36-b35d-4834-e259-1d44d825e24c"
      },
      "execution_count": null,
      "outputs": [
        {
          "output_type": "stream",
          "name": "stdout",
          "text": [
            "Mounted at /content/drive\n"
          ]
        }
      ]
    },
    {
      "cell_type": "code",
      "execution_count": null,
      "metadata": {
        "id": "gfAxmASsbhJm"
      },
      "outputs": [],
      "source": [
        "# Define function to add noise\n",
        "def add_noise(image, mean=0, stddev=10):\n",
        "    \"\"\"Adds Gaussian noise to an image.\"\"\"\n",
        "    noise = np.zeros(image.shape, np.uint8)\n",
        "    cv2.randn(noise, mean, stddev)\n",
        "    noisy_image = cv2.add(image, noise)\n",
        "    return noisy_image\n",
        "\n",
        "# Define function to add blurring\n",
        "def add_blur(image, kernel_size=3, stddev=10):\n",
        "    \"\"\"Adds Gaussian blur to an image.\"\"\"\n",
        "    blurred_image = cv2.GaussianBlur(image, (kernel_size, kernel_size), stddev)\n",
        "    return blurred_image\n",
        "\n",
        "# Define function to add compression\n",
        "def add_compression(image, quality=50):\n",
        "    \"\"\"Adds JPEG compression to an image.\"\"\"\n",
        "    encode_param = [int(cv2.IMWRITE_JPEG_QUALITY), quality]\n",
        "    _, compressed_image = cv2.imencode('.jpg', image, encode_param)\n",
        "    decompressed_image = cv2.imdecode(compressed_image, 1)\n",
        "    return decompressed_image\n",
        "\n",
        "# Define function to add distortion\n",
        "def add_distortion(image, amplitude=10):\n",
        "    \"\"\"Adds sinusoidal distortion to an image.\"\"\"\n",
        "    rows, cols = image.shape[:2]\n",
        "    distorted_image = np.zeros(image.shape, dtype=image.dtype)\n",
        "    for i in range(rows):\n",
        "        for j in range(cols):\n",
        "            offset_x = int(amplitude * np.sin(2 * 3.14 * i / 180))\n",
        "            offset_y = int(amplitude * np.cos(2 * 3.14 * j / 180))\n",
        "            if i+offset_y < rows and j+offset_x < cols:\n",
        "                distorted_image[i,j] = image[(i+offset_y)%rows,(j+offset_x)%cols]\n",
        "    return distorted_image\n",
        "\n",
        "# Define function to add artifacts\n",
        "def add_artifacts(image, kernel_size=3, iterations=1):\n",
        "    \"\"\"Adds erosion artifacts to an image.\"\"\"\n",
        "    artifacts_image = cv2.erode(image, np.ones((kernel_size, kernel_size), np.uint8), iterations=iterations)\n",
        "    return artifacts_image\n",
        "\n",
        "def resize_image(img):\n",
        "    # Get the original dimensions of the image\n",
        "    height, width = img.shape[:2]\n",
        "    # set reduction factor to 0.25 or 25% to get image super resolution of 4x\n",
        "    reduction_factor = 0.25\n",
        "    # Calculate the new dimensions based on the reduction factor while maintaining aspect ratio\n",
        "    new_width = int(width * reduction_factor)\n",
        "    new_height = int(height * reduction_factor)\n",
        "    new_dim = (new_width, new_height)\n",
        "    # Resize the image\n",
        "    resized_img = cv2.resize(img, new_dim, interpolation=cv2.INTER_AREA)\n",
        "    return resized_img"
      ]
    },
    {
      "cell_type": "code",
      "execution_count": null,
      "metadata": {
        "id": "qkqD2BmS6QjP"
      },
      "outputs": [],
      "source": [
        "import random"
      ]
    },
    {
      "cell_type": "code",
      "execution_count": null,
      "metadata": {
        "colab": {
          "background_save": true
        },
        "id": "SZuccVwQcUm4"
      },
      "outputs": [],
      "source": [
        "c = 1\n",
        "aug_types = list()\n",
        "def generate_seperate(img,fn):\n",
        "  global c,aug_types\n",
        "  print(img.shape)\n",
        "  # cv2_imshow(img)\n",
        "  no_of_aug = np.random.randint(2,5)\n",
        "  mlist = [1,2,3,4,5]\n",
        "  # x=np.random.sample(mlist)\n",
        "  # augs=np.random.random_sample(x,no_of_aug)\n",
        "  augs = random.sample(mlist,no_of_aug)\n",
        "  augs = mlist\n",
        "  # aug_types.append([fn,augs])\n",
        "  print(augs)\n",
        "  # Add random values to each function\n",
        "  for i in augs:\n",
        "    cv2.imwrite(\"/content/drive/MyDrive/SEM 6 MINI PROJECT GAN/DATASET/HR/\"+str(c)+\".jpg\",img)\n",
        "    if i==1:\n",
        "      noise_img = add_noise(img, mean=np.random.randint(20, 100), stddev=np.random.randint(20, 60))\n",
        "      print(\"noise\")\n",
        "      # cv2_imshow(noise_img)\n",
        "      cv2.imwrite(\"/content/drive/MyDrive/SEM 6 MINI PROJECT GAN/DATASET/LR/\"+str(c)+\".jpg\",noise_img)\n",
        "    elif i==2:\n",
        "      blur_img = add_blur(img, kernel_size=np.random.choice(range(3, 21, 2)), stddev=np.random.randint(20, 60))\n",
        "      print(\"blur\")\n",
        "      # cv2_imshow(blur_img)\n",
        "      cv2.imwrite(\"/content/drive/MyDrive/SEM 6 MINI PROJECT GAN/DATASET/LR/\"+str(c)+\".jpg\",blur_img)\n",
        "    elif i==3:\n",
        "      compress_img = add_compression(img, quality=np.random.randint(0, 70))\n",
        "      print(\"compress\")\n",
        "      # cv2_imshow(compress_img)\n",
        "      cv2.imwrite(\"/content/drive/MyDrive/SEM 6 MINI PROJECT GAN/DATASET/LR/\"+str(c)+\".jpg\",compress_img)\n",
        "    elif i==4:\n",
        "      distort_img = add_distortion(img, amplitude=np.random.randint(5, 50))\n",
        "      print(\"distort\")\n",
        "      # cv2_imshow(distort_img)\n",
        "      cv2.imwrite(\"/content/drive/MyDrive/SEM 6 MINI PROJECT GAN/DATASET/LR/\"+str(c)+\".jpg\",distort_img)\n",
        "    elif i==5:\n",
        "      artifacts_img = add_artifacts(img, kernel_size=np.random.choice(range(3, 21, 2)), iterations=np.random.randint(1, 5))\n",
        "      print(\"artifact\")\n",
        "      # cv2_imshow(artifacts_img)\n",
        "      cv2.imwrite(\"/content/drive/MyDrive/SEM 6 MINI PROJECT GAN/DATASET/LR/\"+str(c)+\".jpg\",artifacts_img)\n",
        "    # elif i==6:\n",
        "    #   resized_img = resize_image(img)\n",
        "    #   print(\"resized_img\")\n",
        "    #   cv2_imshow(resized_img)\n",
        "    c = c+1\n",
        "\n",
        "def generate_mixture(img,fn):\n",
        "  global c,aug_types\n",
        "  print(img.shape)\n",
        "  # cv2_imshow(img)\n",
        "  no_of_aug = np.random.randint(2,5)\n",
        "  mlist = [1,2,3,4,5]\n",
        "  # x=np.random.sample(mlist)\n",
        "  # augs=np.random.random_sample(x,no_of_aug)\n",
        "  augs = random.sample(mlist, no_of_aug)\n",
        "  # augs = mlist\n",
        "  aug_types.append([fn,augs])\n",
        "  print(augs)\n",
        "  # Add random values to each function\n",
        "  cv2.imwrite(\"/content/drive/MyDrive/SEM 6 MINI PROJECT GAN/DATASET/HR/\"+str(c)+\".jpg\",img)\n",
        "  for i in augs:\n",
        "    if i==1:\n",
        "      img = add_noise(img, mean=np.random.randint(20, 100), stddev=np.random.randint(20, 60))\n",
        "      print(\"noise\")\n",
        "      # cv2_imshow(noise_img)\n",
        "    elif i==2:\n",
        "      img = add_blur(img, kernel_size=np.random.choice(range(3, 21, 2)), stddev=np.random.randint(20, 60))\n",
        "      print(\"blur\")\n",
        "      # cv2_imshow(blur_img)\n",
        "      # cv2.imwrite(\"/content/drive/MyDrive/SEM 6 MINI PROJECT GAN/DATASET/LR/\"+str(c)+\".jpg\",blur_img)\n",
        "    elif i==3:\n",
        "      img = add_compression(img, quality=np.random.randint(0, 70))\n",
        "      print(\"compress\")\n",
        "      # cv2_imshow(compress_img)\n",
        "      # cv2.imwrite(\"/content/drive/MyDrive/SEM 6 MINI PROJECT GAN/DATASET/LR/\"+str(c)+\".jpg\",compress_img)\n",
        "    elif i==4:\n",
        "      img = add_distortion(img, amplitude=np.random.randint(5, 50))\n",
        "      print(\"distort\")\n",
        "      # cv2_imshow(distort_img)\n",
        "      # cv2.imwrite(\"/content/drive/MyDrive/SEM 6 MINI PROJECT GAN/DATASET/LR/\"+str(c)+\".jpg\",distort_img)\n",
        "    elif i==5:\n",
        "      img = add_artifacts(img, kernel_size=np.random.choice(range(3, 21, 2)), iterations=np.random.randint(1, 5))\n",
        "      print(\"artifact\")\n",
        "      # cv2_imshow(artifacts_img)\n",
        "      # cv2.imwrite(\"/content/drive/MyDrive/SEM 6 MINI PROJECT GAN/DATASET/LR/\"+str(c)+\".jpg\",artifacts_img)\n",
        "    # elif i==6:\n",
        "    #   resized_img = resize_image(img)\n",
        "    #   print(\"resized_img\")\n",
        "    #   cv2_imshow(resized_img)\n",
        "  c = c+1\n",
        "  cv2.imwrite(\"/content/drive/MyDrive/SEM 6 MINI PROJECT GAN/DATASET/LR/\"+str(c)+\".jpg\",img)\n",
        "\n",
        "# Load image from URL\n",
        "data = \"/content/drive/MyDrive/SEM 6 MINI PROJECT GAN/DATASET/Data/\"\n",
        "images = [data+f for f in listdir(data) if isfile(join(data, f))]\n",
        "# images\n",
        "# images = [\"/content/pexels-photo-302820[1].jpeg\"]\n",
        "for i in range(len(images)):\n",
        "  x = images[i]\n",
        "  print(x)\n",
        "  img = cv2.imread(x)\n",
        "  generate_seperate(img,x)\n",
        "  # for j in range(np.random.randint(2,5)):\n",
        "  #   generate_mixture(img,x)\n",
        "  print(\"------------------------------------------\"+str(i)+\"/\"+str(len(images)))\n",
        "  # break\n"
      ]
    },
    {
      "cell_type": "code",
      "execution_count": null,
      "metadata": {
        "id": "v0sgoS-l9hmO"
      },
      "outputs": [],
      "source": [
        "aug_types"
      ]
    },
    {
      "cell_type": "code",
      "execution_count": null,
      "metadata": {
        "id": "PUAMT4ZtU1x7"
      },
      "outputs": [],
      "source": [
        "with open(\"/content/drive/MyDrive/SEM 6 MINI PROJECT GAN/DATASET/augment values.txt\",'w') as f:\n",
        "  f.write(str(aug_types))\n",
        "\n",
        "data_aug_lr = \"/content/drive/MyDrive/SEM 6 MINI PROJECT GAN/DATASET/LR/\"\n",
        "aug_images = [data_aug_lr+f for f in listdir(data_aug_lr) if isfile(join(data_aug_lr, f))]\n",
        "print(\"No of Augmented Images :\",len(aug_images))\n",
        "y = [0,0,0,0,0]\n",
        "for i in aug_types:\n",
        "  for x in i[1]:\n",
        "    y[x-1]=y[x-1]+1\n",
        "\n",
        "print(\"No of Images in each Category :\",y)"
      ]
    },
    {
      "cell_type": "markdown",
      "metadata": {
        "id": "UVfoY9-4x9rf"
      },
      "source": [
        "#Dataset References\n",
        "\n",
        "Refence Date ( 04-04-2023 )\n",
        "*   https://data.vision.ee.ethz.ch/cvl/DIV2K/   \n",
        "*   https://www.kaggle.com/datasets/akhileshdkapse/super-image-resolution\n",
        "*   https://drive.google.com/file/d/1qToTBej21VC7n49L_36FjmuQisjM3xPf (278gb) can use later\n",
        "*   https://drive.google.com/drive/folders/1AAI2a2BmafbeVExLH-l0aZgvPgJCk5Xm\n",
        "\n",
        "\n"
      ]
    },
    {
      "cell_type": "markdown",
      "metadata": {
        "id": "vZGWyCpw32Hf"
      },
      "source": [
        "#ROUGH WORK"
      ]
    },
    {
      "cell_type": "code",
      "execution_count": null,
      "metadata": {
        "id": "MOUn_hyicSAC"
      },
      "outputs": [],
      "source": [
        "# Display images\n",
        "cv2_imshow(img)"
      ]
    },
    {
      "cell_type": "code",
      "execution_count": null,
      "metadata": {
        "colab": {
          "base_uri": "https://localhost:8080/"
        },
        "id": "ysA-sTkmeAkc",
        "outputId": "a4882697-8b72-48df-bd2d-cd56a8636cf6"
      },
      "outputs": [
        {
          "data": {
            "text/plain": [
              "[9, 3, 7, 5, 1, 4]"
            ]
          },
          "execution_count": 16,
          "metadata": {},
          "output_type": "execute_result"
        }
      ],
      "source": [
        "import random\n",
        "my_list = [1, 2, 3, 4, 5, 6, 7, 8, 9, 10]\n",
        "random.sample(my_list, np.random.randint(1,len(my_list)))"
      ]
    },
    {
      "cell_type": "code",
      "execution_count": null,
      "metadata": {
        "colab": {
          "base_uri": "https://localhost:8080/"
        },
        "id": "kLofHzzpkfLE",
        "outputId": "b2074433-f62c-477f-8242-bb18697d6337"
      },
      "outputs": [
        {
          "name": "stdout",
          "output_type": "stream",
          "text": [
            "/content\n",
            "/content\n"
          ]
        }
      ],
      "source": [
        "%cd \"/content/\"\n",
        "!pwd"
      ]
    },
    {
      "cell_type": "code",
      "execution_count": null,
      "metadata": {
        "id": "UdPdximIvU9c",
        "colab": {
          "base_uri": "https://localhost:8080/"
        },
        "outputId": "39845858-6d0b-4f25-85a4-193877cba820"
      },
      "outputs": [
        {
          "output_type": "stream",
          "name": "stdout",
          "text": [
            "0655.png\n",
            "3616 4528786\n"
          ]
        }
      ],
      "source": [
        "from os import listdir\n",
        "from os.path import isfile, join\n",
        "import os\n",
        "mypath = \"/content/drive/MyDrive/SEM 6 MINI PROJECT GAN/DATASET/Data/\"\n",
        "onlyfiles = [f for f in listdir(mypath) if isfile(join(mypath, f))]\n",
        "size = 0\n",
        "for i in onlyfiles:\n",
        "  # print(mypath+i)\n",
        "  size += os.path.getsize(mypath+i)\n",
        "  # print(i)\n",
        "  # break\n",
        "\n",
        "print(len(onlyfiles), size)\n",
        "# %cd \"/content/DIV2K_train_HR/DIV2K_train_HR/\"\n",
        "# !cp * \"/content/drive/MyDrive/SEM 6 MINI PROJECT GAN/DATASET/Data/\""
      ]
    },
    {
      "cell_type": "code",
      "execution_count": null,
      "metadata": {
        "colab": {
          "base_uri": "https://localhost:8080/"
        },
        "id": "9668lzZQZ2Pj",
        "outputId": "59a08255-23d9-4f8b-da9f-1829912b54e4"
      },
      "outputs": [
        {
          "name": "stdout",
          "output_type": "stream",
          "text": [
            "/content\n"
          ]
        }
      ],
      "source": [
        "# !unzip \"/content/drive/MyDrive/SEM 6 MINI PROJECT GAN/Flickr2K.zip\" -d \"/content/\"\n",
        "%cd \"/content/\"\n",
        "# !cp * \"/content/drive/MyDrive/SEM 6 MINI PROJECT GAN/DATASET/Data/\""
      ]
    },
    {
      "cell_type": "code",
      "execution_count": null,
      "metadata": {
        "id": "n0_cr_m9xzju",
        "colab": {
          "base_uri": "https://localhost:8080/"
        },
        "outputId": "0610fc43-9e99-43af-dec0-26cf03142f79"
      },
      "outputs": [
        {
          "output_type": "stream",
          "name": "stdout",
          "text": [
            "Archive:  /content/mhsscoeh_acm.sql.gz\n",
            "  End-of-central-directory signature not found.  Either this file is not\n",
            "  a zipfile, or it constitutes one disk of a multi-part archive.  In the\n",
            "  latter case the central directory and zipfile comment will be found on\n",
            "  the last disk(s) of this archive.\n",
            "unzip:  cannot find zipfile directory in one of /content/mhsscoeh_acm.sql.gz or\n",
            "        /content/mhsscoeh_acm.sql.gz.zip, and cannot find /content/mhsscoeh_acm.sql.gz.ZIP, period.\n"
          ]
        }
      ],
      "source": [
        "!unzip \"/content/mhsscoeh_acm.sql.gz\""
      ]
    },
    {
      "cell_type": "code",
      "source": [
        "!apt-get install -qq xattr"
      ],
      "metadata": {
        "id": "iD11WDgE_tiU"
      },
      "execution_count": null,
      "outputs": []
    },
    {
      "cell_type": "code",
      "source": [
        "s = \"\"\n",
        "c = 0\n",
        "l=len(onlyfiles)\n",
        "for i in onlyfiles:\n",
        "  y = \"\\\"\"+str(mypath+i)+\"\\\"\"\n",
        "  x = !xattr -p 'user.drive.id' $y\n",
        "  s = s + \"drive.google.com/uc?id=\"+str(\"\".join(x))+\"\\n\"\n",
        "  print(c,\"/\",l)\n",
        "  c=c+1\n",
        "\n",
        "with open(\"/content/drive/MyDrive/SEM 6 MINI PROJECT GAN/DATASET/data ids.txt\",'w') as f:\n",
        "  f.write(s)\n",
        "\n",
        "print(\"completed\")"
      ],
      "metadata": {
        "id": "9SEe3qkQACx0"
      },
      "execution_count": null,
      "outputs": []
    },
    {
      "cell_type": "code",
      "source": [
        "!pip install opencv-python gdown"
      ],
      "metadata": {
        "colab": {
          "base_uri": "https://localhost:8080/"
        },
        "id": "04q4em6HOJ-1",
        "outputId": "5e686825-791a-43eb-c0ca-c27705ac3dba"
      },
      "execution_count": null,
      "outputs": [
        {
          "output_type": "stream",
          "name": "stdout",
          "text": [
            "Looking in indexes: https://pypi.org/simple, https://us-python.pkg.dev/colab-wheels/public/simple/\n",
            "Requirement already satisfied: opencv-python in /usr/local/lib/python3.9/dist-packages (4.7.0.72)\n",
            "Requirement already satisfied: gdown in /usr/local/lib/python3.9/dist-packages (4.6.6)\n",
            "Requirement already satisfied: numpy>=1.17.3 in /usr/local/lib/python3.9/dist-packages (from opencv-python) (1.22.4)\n",
            "Requirement already satisfied: requests[socks] in /usr/local/lib/python3.9/dist-packages (from gdown) (2.27.1)\n",
            "Requirement already satisfied: filelock in /usr/local/lib/python3.9/dist-packages (from gdown) (3.10.7)\n",
            "Requirement already satisfied: six in /usr/local/lib/python3.9/dist-packages (from gdown) (1.16.0)\n",
            "Requirement already satisfied: beautifulsoup4 in /usr/local/lib/python3.9/dist-packages (from gdown) (4.11.2)\n",
            "Requirement already satisfied: tqdm in /usr/local/lib/python3.9/dist-packages (from gdown) (4.65.0)\n",
            "Requirement already satisfied: soupsieve>1.2 in /usr/local/lib/python3.9/dist-packages (from beautifulsoup4->gdown) (2.4)\n",
            "Requirement already satisfied: idna<4,>=2.5 in /usr/local/lib/python3.9/dist-packages (from requests[socks]->gdown) (3.4)\n",
            "Requirement already satisfied: charset-normalizer~=2.0.0 in /usr/local/lib/python3.9/dist-packages (from requests[socks]->gdown) (2.0.12)\n",
            "Requirement already satisfied: certifi>=2017.4.17 in /usr/local/lib/python3.9/dist-packages (from requests[socks]->gdown) (2022.12.7)\n",
            "Requirement already satisfied: urllib3<1.27,>=1.21.1 in /usr/local/lib/python3.9/dist-packages (from requests[socks]->gdown) (1.26.15)\n",
            "Requirement already satisfied: PySocks!=1.5.7,>=1.5.6 in /usr/local/lib/python3.9/dist-packages (from requests[socks]->gdown) (1.7.1)\n"
          ]
        }
      ]
    },
    {
      "cell_type": "code",
      "source": [
        "s = list()\n",
        "with open(\"/content/drive/MyDrive/SEM 6 MINI PROJECT GAN/DATASET/data ids.txt\",'r') as f:\n",
        "    s = f.read().split(\"\\n\")\n",
        "\n",
        "print(len(s))\n",
        "\n",
        "for x in range(len(s)):\n",
        "    i = \"https://\"+s[x]\n",
        "    !gdown $i\n",
        "    break"
      ],
      "metadata": {
        "colab": {
          "base_uri": "https://localhost:8080/"
        },
        "id": "fCpH2qmEVJyF",
        "outputId": "77d230a0-1649-4406-cfc3-abb32c82f92d"
      },
      "execution_count": null,
      "outputs": [
        {
          "output_type": "stream",
          "name": "stdout",
          "text": [
            "3617\n",
            "Downloading...\n",
            "From: https://drive.google.com/uc?id=1dCTBYVBbBOdXHBDD21LO_00WNIbUhDbH\n",
            "To: /content/0655.png\n",
            "100% 4.53M/4.53M [00:00<00:00, 152MB/s]\n"
          ]
        }
      ]
    },
    {
      "cell_type": "code",
      "source": [
        "!zip -r \"/content/drive/MyDrive/SEM 6 MINI PROJECT GAN/DATASET/Data_arc.zip\" \"/content/drive/MyDrive/SEM 6 MINI PROJECT GAN/DATASET/Data\""
      ],
      "metadata": {
        "id": "EHKwafzlVS6B"
      },
      "execution_count": null,
      "outputs": []
    },
    {
      "cell_type": "code",
      "source": [],
      "metadata": {
        "id": "PM66Js5dsKN5"
      },
      "execution_count": null,
      "outputs": []
    }
  ],
  "metadata": {
    "colab": {
      "provenance": [],
      "include_colab_link": true
    },
    "gpuClass": "standard",
    "kernelspec": {
      "display_name": "Python 3",
      "name": "python3"
    },
    "language_info": {
      "name": "python"
    }
  },
  "nbformat": 4,
  "nbformat_minor": 0
}